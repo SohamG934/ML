{
 "cells": [
  {
   "cell_type": "code",
   "execution_count": 5,
   "id": "4a5adaf4",
   "metadata": {},
   "outputs": [],
   "source": [
    "import numpy as np\n",
    "import pandas as pd\n",
    "from sklearn.preprocessing import MinMaxScaler\n",
    "from sklearn.datasets import load_digits\n",
    "from sklearn.model_selection import train_test_split"
   ]
  },
  {
   "cell_type": "code",
   "execution_count": 55,
   "id": "45193f82",
   "metadata": {},
   "outputs": [],
   "source": [
    "class LogisticRegression:\n",
    "    def __init__(self, lr=0.01):\n",
    "        self.lr=lr\n",
    "    def fit(self,x,y):\n",
    "        self.x=x\n",
    "        self.y=y\n",
    "        self.w=0\n",
    "        self.b=0\n",
    "        for i in range(50):\n",
    "            self.gradient_descent()\n",
    "        print(self.w,self.b)\n",
    "    def gradient_descent(self):\n",
    "            self.w-=self.lr*self.diff_w()\n",
    "            self.b-=self.lr*self.diff_b()\n",
    "    def sig(self,x):\n",
    "        return 1/(1 + np.exp(-x))\n",
    "    def loss(w,b):\n",
    "        return -self.y*np.log(self.sig(self.w*self.x + self.b))-(1-y)*np.log(1-self.sig((self.w*self.x + self.b)))\n",
    "    def cost(self,w,b):\n",
    "        cost=np.mean(self.loss(self.w,self.b))\n",
    "        return cost\n",
    "    def diff_w(self):\n",
    "        z = self.w * self.x + self.b\n",
    "        sig_z = self.sig(z)\n",
    "        diff_w = np.sum((sig_z - self.y) * self.x) / len(self.x)\n",
    "        return diff_w\n",
    "    def diff_b(self):\n",
    "        diff_b=np.mean((self.sig(self.w*self.x+self.b)-self.y))\n",
    "        return diff_b\n",
    "    def predict(self,x):\n",
    "        y_new=self.sig(self.w*x+self.b)\n",
    "        y_pred_class = [1 if i > 0.5 else 0 for i in y_new]\n",
    "        return y_pred_class"
   ]
  },
  {
   "cell_type": "code",
   "execution_count": 62,
   "id": "ae19b1cc",
   "metadata": {},
   "outputs": [],
   "source": [
    "x = np.random.randn(100, 1) #generating data of 100 samples\n",
    "y = np.random.randint(2, size=100)  #generating labels for data"
   ]
  },
  {
   "cell_type": "code",
   "execution_count": 58,
   "id": "b51d408a",
   "metadata": {},
   "outputs": [],
   "source": [
    "clf=LogisticRegression()"
   ]
  },
  {
   "cell_type": "code",
   "execution_count": 59,
   "id": "b3a67e92",
   "metadata": {},
   "outputs": [
    {
     "name": "stdout",
     "output_type": "stream",
     "text": [
      "0.006933331092938312 0.023501839418741996\n"
     ]
    }
   ],
   "source": [
    "clf.fit(x,y)"
   ]
  },
  {
   "cell_type": "code",
   "execution_count": 60,
   "id": "8d1f2bf2",
   "metadata": {},
   "outputs": [],
   "source": [
    "x_test=np.array([1,2])"
   ]
  },
  {
   "cell_type": "code",
   "execution_count": 61,
   "id": "58d438e5",
   "metadata": {},
   "outputs": [
    {
     "name": "stdout",
     "output_type": "stream",
     "text": [
      "Predictions: [1, 1]\n"
     ]
    }
   ],
   "source": [
    "predictions = clf.predict(x_test)\n",
    "print(\"Predictions:\", predictions)"
   ]
  },
  {
   "cell_type": "code",
   "execution_count": null,
   "id": "2f0fac8a",
   "metadata": {},
   "outputs": [],
   "source": []
  }
 ],
 "metadata": {
  "kernelspec": {
   "display_name": "Python 3 (ipykernel)",
   "language": "python",
   "name": "python3"
  },
  "language_info": {
   "codemirror_mode": {
    "name": "ipython",
    "version": 3
   },
   "file_extension": ".py",
   "mimetype": "text/x-python",
   "name": "python",
   "nbconvert_exporter": "python",
   "pygments_lexer": "ipython3",
   "version": "3.11.5"
  }
 },
 "nbformat": 4,
 "nbformat_minor": 5
}
