{
 "cells": [
  {
   "cell_type": "code",
   "execution_count": 4,
   "id": "4a5adaf4",
   "metadata": {},
   "outputs": [],
   "source": [
    "import numpy as np\n",
    "import style\n",
    "from sklearn.preprocessing import MinMaxScaler\n",
    "from sklearn.datasets import load_digits\n",
    "from sklearn.model_selection import train_test_split"
   ]
  },
  {
   "cell_type": "code",
   "execution_count": 22,
   "id": "45193f82",
   "metadata": {},
   "outputs": [],
   "source": [
    "class LogisticRegression:\n",
    "    def __init__(self, lr=0.01):\n",
    "        self.lr=lr\n",
    "    def fit(self,x,y):\n",
    "        self.x=x\n",
    "        self.y=y\n",
    "        self.w=np.random.random()\n",
    "        self.b=np.random.random()\n",
    "        for i in range(50):\n",
    "            self.gradient_descent()\n",
    "        print(self.w,self.b)\n",
    "    def gradient_descent(self):\n",
    "            self.w-=self.lr*self.diff_w()\n",
    "            self.b-=self.lr*self.diff_b()\n",
    "    def sig(x):\n",
    "        return 1/(1 + np.exp(-x))\n",
    "    def loss(w,b):\n",
    "        return -self.y*np.log(self.sig(self.w*self.x + self.b))-(1-y)*np.log(1-self.sig((self.w*self.x + self.b)))\n",
    "    def cost(self,w,b):\n",
    "        cost=np.mean(self.loss(self.w,self.b))\n",
    "        return cost\n",
    "    def diff_w(self):\n",
    "        diff_w=np.sum((self.sig((self.w*self.x+self.b))-self.y)*self.x)/len(self.x)\n",
    "        return diff_w\n",
    "    def diff_b(self):\n",
    "        diff_b=np.mean((self.sig(self.w*self.x+self.b)-self.y))\n",
    "        return diff_b\n",
    "    def predict(self,x):\n",
    "        y_new=self.w*x+self.b\n",
    "        return y_new"
   ]
  },
  {
   "cell_type": "code",
   "execution_count": 6,
   "id": "ae19b1cc",
   "metadata": {},
   "outputs": [],
   "source": [
    "digits=load_digits()    #loading digits dataset"
   ]
  },
  {
   "cell_type": "code",
   "execution_count": 7,
   "id": "482858ad",
   "metadata": {},
   "outputs": [
    {
     "name": "stdout",
     "output_type": "stream",
     "text": [
      "(1797, 64) (1797,)\n"
     ]
    }
   ],
   "source": [
    "print(digits.data.shape,digits.target.shape)   #making sure we have label for each feature"
   ]
  },
  {
   "cell_type": "code",
   "execution_count": 8,
   "id": "3b7cc74e",
   "metadata": {},
   "outputs": [],
   "source": [
    "x_train,x_test,y_train,y_test=train_test_split(digits.data, digits.target, test_size=0.25, random_state=0)  #splitting data"
   ]
  },
  {
   "cell_type": "code",
   "execution_count": 23,
   "id": "b51d408a",
   "metadata": {},
   "outputs": [],
   "source": [
    "clf=LogisticRegression()"
   ]
  },
  {
   "cell_type": "code",
   "execution_count": 24,
   "id": "b3a67e92",
   "metadata": {},
   "outputs": [
    {
     "ename": "TypeError",
     "evalue": "LogisticRegression.sig() takes 1 positional argument but 2 were given",
     "output_type": "error",
     "traceback": [
      "\u001b[1;31m---------------------------------------------------------------------------\u001b[0m",
      "\u001b[1;31mTypeError\u001b[0m                                 Traceback (most recent call last)",
      "Cell \u001b[1;32mIn[24], line 1\u001b[0m\n\u001b[1;32m----> 1\u001b[0m \u001b[43mclf\u001b[49m\u001b[38;5;241;43m.\u001b[39;49m\u001b[43mfit\u001b[49m\u001b[43m(\u001b[49m\u001b[43mx_train\u001b[49m\u001b[43m,\u001b[49m\u001b[43my_train\u001b[49m\u001b[43m)\u001b[49m\n",
      "Cell \u001b[1;32mIn[22], line 10\u001b[0m, in \u001b[0;36mLogisticRegression.fit\u001b[1;34m(self, x, y)\u001b[0m\n\u001b[0;32m      8\u001b[0m \u001b[38;5;28mself\u001b[39m\u001b[38;5;241m.\u001b[39mb\u001b[38;5;241m=\u001b[39mnp\u001b[38;5;241m.\u001b[39mrandom\u001b[38;5;241m.\u001b[39mrandom()\n\u001b[0;32m      9\u001b[0m \u001b[38;5;28;01mfor\u001b[39;00m i \u001b[38;5;129;01min\u001b[39;00m \u001b[38;5;28mrange\u001b[39m(\u001b[38;5;241m50\u001b[39m):\n\u001b[1;32m---> 10\u001b[0m     \u001b[38;5;28;43mself\u001b[39;49m\u001b[38;5;241;43m.\u001b[39;49m\u001b[43mgradient_descent\u001b[49m\u001b[43m(\u001b[49m\u001b[43m)\u001b[49m\n\u001b[0;32m     11\u001b[0m \u001b[38;5;28mprint\u001b[39m(\u001b[38;5;28mself\u001b[39m\u001b[38;5;241m.\u001b[39mw,\u001b[38;5;28mself\u001b[39m\u001b[38;5;241m.\u001b[39mb)\n",
      "Cell \u001b[1;32mIn[22], line 13\u001b[0m, in \u001b[0;36mLogisticRegression.gradient_descent\u001b[1;34m(self)\u001b[0m\n\u001b[0;32m     12\u001b[0m \u001b[38;5;28;01mdef\u001b[39;00m \u001b[38;5;21mgradient_descent\u001b[39m(\u001b[38;5;28mself\u001b[39m):\n\u001b[1;32m---> 13\u001b[0m         \u001b[38;5;28mself\u001b[39m\u001b[38;5;241m.\u001b[39mw\u001b[38;5;241m-\u001b[39m\u001b[38;5;241m=\u001b[39m\u001b[38;5;28mself\u001b[39m\u001b[38;5;241m.\u001b[39mlr\u001b[38;5;241m*\u001b[39m\u001b[38;5;28;43mself\u001b[39;49m\u001b[38;5;241;43m.\u001b[39;49m\u001b[43mdiff_w\u001b[49m\u001b[43m(\u001b[49m\u001b[43m)\u001b[49m\n\u001b[0;32m     14\u001b[0m         \u001b[38;5;28mself\u001b[39m\u001b[38;5;241m.\u001b[39mb\u001b[38;5;241m-\u001b[39m\u001b[38;5;241m=\u001b[39m\u001b[38;5;28mself\u001b[39m\u001b[38;5;241m.\u001b[39mlr\u001b[38;5;241m*\u001b[39m\u001b[38;5;28mself\u001b[39m\u001b[38;5;241m.\u001b[39mdiff_b()\n",
      "Cell \u001b[1;32mIn[22], line 23\u001b[0m, in \u001b[0;36mLogisticRegression.diff_w\u001b[1;34m(self)\u001b[0m\n\u001b[0;32m     22\u001b[0m \u001b[38;5;28;01mdef\u001b[39;00m \u001b[38;5;21mdiff_w\u001b[39m(\u001b[38;5;28mself\u001b[39m):\n\u001b[1;32m---> 23\u001b[0m     diff_w\u001b[38;5;241m=\u001b[39mnp\u001b[38;5;241m.\u001b[39msum((\u001b[38;5;28;43mself\u001b[39;49m\u001b[38;5;241;43m.\u001b[39;49m\u001b[43msig\u001b[49m\u001b[43m(\u001b[49m\u001b[38;5;28;43mself\u001b[39;49m\u001b[38;5;241;43m.\u001b[39;49m\u001b[43mw\u001b[49m\u001b[43m)\u001b[49m\u001b[38;5;241m-\u001b[39m\u001b[38;5;28mself\u001b[39m\u001b[38;5;241m.\u001b[39my)\u001b[38;5;241m*\u001b[39m\u001b[38;5;28mself\u001b[39m\u001b[38;5;241m.\u001b[39mx)\u001b[38;5;241m/\u001b[39m\u001b[38;5;28mlen\u001b[39m(\u001b[38;5;28mself\u001b[39m\u001b[38;5;241m.\u001b[39mx)\n\u001b[0;32m     24\u001b[0m     \u001b[38;5;28;01mreturn\u001b[39;00m diff_w\n",
      "\u001b[1;31mTypeError\u001b[0m: LogisticRegression.sig() takes 1 positional argument but 2 were given"
     ]
    }
   ],
   "source": [
    "clf.fit(x_train,y_train)"
   ]
  },
  {
   "cell_type": "code",
   "execution_count": null,
   "id": "8d1f2bf2",
   "metadata": {},
   "outputs": [],
   "source": []
  }
 ],
 "metadata": {
  "kernelspec": {
   "display_name": "Python 3 (ipykernel)",
   "language": "python",
   "name": "python3"
  },
  "language_info": {
   "codemirror_mode": {
    "name": "ipython",
    "version": 3
   },
   "file_extension": ".py",
   "mimetype": "text/x-python",
   "name": "python",
   "nbconvert_exporter": "python",
   "pygments_lexer": "ipython3",
   "version": "3.11.5"
  }
 },
 "nbformat": 4,
 "nbformat_minor": 5
}
